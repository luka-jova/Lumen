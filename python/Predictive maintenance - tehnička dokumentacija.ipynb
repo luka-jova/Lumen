{
 "cells": [
  {
   "cell_type": "markdown",
   "metadata": {},
   "source": [
    "<center><h1> Tehnička dokumentacija rješenja  </h1></center>\n",
    "\n",
    "### 1. Uvod\n",
    "### 2. Pokretanje programa\n",
    "### 3. Rad s podacima\n",
    "### 4. Pokretanje algoritma za predviđanje\n",
    "### 5. Ukratko o kodu\n",
    "### 6. Završetak"
   ]
  },
  {
   "cell_type": "markdown",
   "metadata": {},
   "source": [
    "## 1. Uvod \n",
    "\n",
    "Ovaj je dokument zamišljen kao prilog službenoj dokumentaciji rješenja. U ovoj tehničkoj dokumentaciji želimo Vam predstaviti način pokretanja koda koji smo napisali te želimo da Vam korištenje istog bude uz što manje poteškoća. Također, trudili smo se što detaljnije pisati komentare u kodu, pa ukoliko Vas zanima možete pogledati u dokumentima predanim uz rješenje. "
   ]
  },
  {
   "cell_type": "markdown",
   "metadata": {},
   "source": [
    "## 2. Pokretanje programa\n",
    "\n",
    "Kod je pisan u Pythonu, stoga Vam je za pokretanje potrebno moći pokrenuti Python. Mi smo kodove pokretali u terminalu, a za pisanje ove dokumentacije služimo se Jupyter notebookom te kod pokrećemo unutar same bilježnice. \n",
    "Krenimo s prvom naredbom kojom se otvara početni zaslon. "
   ]
  },
  {
   "cell_type": "markdown",
   "metadata": {},
   "source": [
    "<hr>Pri odabiru opcije 1) Run diagnosis potrebno je pričekati da se sve potrebne datoteke učitaju što može potrajati nekoliko minuta! Također, pošto kod pokrećemo u bilježnici kako bi što preciznije vidjeli postupak, molimo Vas da sljedeći dugački output zanemarite, odnosno preskočite do dijela koji će biti označen.\n",
    "<hr>"
   ]
  },
  {
   "cell_type": "code",
   "execution_count": null,
   "metadata": {},
   "outputs": [],
   "source": [
    "import ui\n",
    "ui.welcome_screen()"
   ]
  },
  {
   "cell_type": "markdown",
   "metadata": {},
   "source": [
    "<hr>Nakon što se sve datoteke učitaju, program nas pita želimo li dijagnozu izvesti u terminalu ili PDF formatu. U ovom smo primjeru odabrali PDF, no pitanje koje slijedi nakon odabira je jednako u oba slučaja, potrebno je izabrati (...) \n",
    "<hr>\n",
    "Nakon odabira mape slijedi odabir estimatora odnosno stroja procjenitelja na temelju kojeg želite donijeti zaključak je li potrebno \n",
    "\n"
   ]
  },
  {
   "cell_type": "code",
   "execution_count": null,
   "metadata": {},
   "outputs": [],
   "source": []
  }
 ],
 "metadata": {
  "kernelspec": {
   "display_name": "Python 3",
   "language": "python",
   "name": "python3"
  }
 },
 "nbformat": 4,
 "nbformat_minor": 4
}
